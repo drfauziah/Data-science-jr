{
 "cells": [
  {
   "cell_type": "markdown",
   "metadata": {},
   "source": [
    "#### Model Prediksi Harga Rumah berdasarkan luas tanah, luas bangunan, dan kedekatan lokasi dengan pusat kota\n",
    "-DQLab-"
   ]
  },
  {
   "cell_type": "code",
   "execution_count": 1,
   "metadata": {},
   "outputs": [
    {
     "data": {
      "text/plain": [
       "['tanah,bangunan,jarak_ke_pusat,harga\\n',\n",
       " '70,50,15,500\\n',\n",
       " '70,60,30,400\\n',\n",
       " '100,70,50,650\\n',\n",
       " '100,50,30,700\\n',\n",
       " '120,100,20,2000\\n',\n",
       " '120,80,50,1200\\n',\n",
       " '150,90,15,3000\\n',\n",
       " '150,100,50,1800']"
      ]
     },
     "execution_count": 1,
     "metadata": {},
     "output_type": "execute_result"
    }
   ],
   "source": [
    "# Baca file txt diubah ke bentuk list of string lines\n",
    "def bacatxt(nama_file):\n",
    "    file = open(nama_file, \"r\")\n",
    "    baca_baris = file.readlines()\n",
    "    file.close()\n",
    "    return baca_baris\n",
    "\n",
    "bacatxt(\"harga_rumah.txt\")"
   ]
  },
  {
   "cell_type": "code",
   "execution_count": 2,
   "metadata": {},
   "outputs": [
    {
     "data": {
      "text/plain": [
       "[{'tanah': '70', 'bangunan': '50', 'jarak_ke_pusat': '15', 'harga': '500'},\n",
       " {'tanah': '70', 'bangunan': '50', 'jarak_ke_pusat': '15', 'harga': '500'},\n",
       " {'tanah': '70', 'bangunan': '50', 'jarak_ke_pusat': '15', 'harga': '500'},\n",
       " {'tanah': '70', 'bangunan': '50', 'jarak_ke_pusat': '15', 'harga': '500'},\n",
       " {'tanah': '70', 'bangunan': '60', 'jarak_ke_pusat': '30', 'harga': '400'},\n",
       " {'tanah': '70', 'bangunan': '60', 'jarak_ke_pusat': '30', 'harga': '400'},\n",
       " {'tanah': '70', 'bangunan': '60', 'jarak_ke_pusat': '30', 'harga': '400'},\n",
       " {'tanah': '70', 'bangunan': '60', 'jarak_ke_pusat': '30', 'harga': '400'},\n",
       " {'tanah': '100', 'bangunan': '70', 'jarak_ke_pusat': '50', 'harga': '650'},\n",
       " {'tanah': '100', 'bangunan': '70', 'jarak_ke_pusat': '50', 'harga': '650'},\n",
       " {'tanah': '100', 'bangunan': '70', 'jarak_ke_pusat': '50', 'harga': '650'},\n",
       " {'tanah': '100', 'bangunan': '70', 'jarak_ke_pusat': '50', 'harga': '650'},\n",
       " {'tanah': '100', 'bangunan': '50', 'jarak_ke_pusat': '30', 'harga': '700'},\n",
       " {'tanah': '100', 'bangunan': '50', 'jarak_ke_pusat': '30', 'harga': '700'},\n",
       " {'tanah': '100', 'bangunan': '50', 'jarak_ke_pusat': '30', 'harga': '700'},\n",
       " {'tanah': '100', 'bangunan': '50', 'jarak_ke_pusat': '30', 'harga': '700'},\n",
       " {'tanah': '120', 'bangunan': '100', 'jarak_ke_pusat': '20', 'harga': '2000'},\n",
       " {'tanah': '120', 'bangunan': '100', 'jarak_ke_pusat': '20', 'harga': '2000'},\n",
       " {'tanah': '120', 'bangunan': '100', 'jarak_ke_pusat': '20', 'harga': '2000'},\n",
       " {'tanah': '120', 'bangunan': '100', 'jarak_ke_pusat': '20', 'harga': '2000'},\n",
       " {'tanah': '120', 'bangunan': '80', 'jarak_ke_pusat': '50', 'harga': '1200'},\n",
       " {'tanah': '120', 'bangunan': '80', 'jarak_ke_pusat': '50', 'harga': '1200'},\n",
       " {'tanah': '120', 'bangunan': '80', 'jarak_ke_pusat': '50', 'harga': '1200'},\n",
       " {'tanah': '120', 'bangunan': '80', 'jarak_ke_pusat': '50', 'harga': '1200'},\n",
       " {'tanah': '150', 'bangunan': '90', 'jarak_ke_pusat': '15', 'harga': '3000'},\n",
       " {'tanah': '150', 'bangunan': '90', 'jarak_ke_pusat': '15', 'harga': '3000'},\n",
       " {'tanah': '150', 'bangunan': '90', 'jarak_ke_pusat': '15', 'harga': '3000'},\n",
       " {'tanah': '150', 'bangunan': '90', 'jarak_ke_pusat': '15', 'harga': '3000'},\n",
       " {'tanah': '150', 'bangunan': '100', 'jarak_ke_pusat': '50', 'harga': '1800'},\n",
       " {'tanah': '150', 'bangunan': '100', 'jarak_ke_pusat': '50', 'harga': '1800'},\n",
       " {'tanah': '150', 'bangunan': '100', 'jarak_ke_pusat': '50', 'harga': '1800'},\n",
       " {'tanah': '150', 'bangunan': '100', 'jarak_ke_pusat': '50', 'harga': '1800'}]"
      ]
     },
     "execution_count": 2,
     "metadata": {},
     "output_type": "execute_result"
    }
   ],
   "source": [
    "# string baris pertama merupakan key, baris lainnya sebagai value\n",
    "# Membuat list of dict dari list of string lines\n",
    "\n",
    "def list_of_dict(file):\n",
    "    data = bacatxt(file)\n",
    "    keys = data[0].replace(\"\\n\",\"\").split(\",\")\n",
    "    isi = []\n",
    "    for baris in data[1:]:\n",
    "        baris_data = baris.replace(\"\\n\",\"\").split(\",\")\n",
    "        dict_data = dict()    \n",
    "        for i in range(len(baris_data)):\n",
    "            dict_data[keys[i]] = baris_data[i]\n",
    "            isi.append(dict_data)\n",
    "    return isi\n",
    "\n",
    "list_of_dict(\"harga_rumah.txt\")"
   ]
  },
  {
   "cell_type": "code",
   "execution_count": 3,
   "metadata": {},
   "outputs": [
    {
     "name": "stdout",
     "output_type": "stream",
     "text": [
      "['70', '70', '70', '70', '70', '70', '70', '70', '100', '100', '100', '100', '100', '100', '100', '100', '120', '120', '120', '120', '120', '120', '120', '120', '150', '150', '150', '150', '150', '150', '150', '150']\n",
      "['70', '70', '70', '70', '70', '70', '70', '70', '100', '100', '100', '100', '100', '100', '100', '100', '120', '120', '120', '120', '120', '120', '120', '120', '150', '150', '150', '150', '150', '150', '150', '150']\n"
     ]
    }
   ],
   "source": [
    "# Buat fungsi  get_all_specified_attribute yang menerima parameter list_of_dictionary \n",
    "# (tipe data list yang berisikan sekumpulan tipe data dictionary) dan specified_key \n",
    "# (tipe data string). Fungsi akan mengembalikan sebuah list yang berisikan seluruh \n",
    "# atribut dengan kunci (key) specified_key. \n",
    "def get_all_specified_attributes(list_of_dictionary, specified_key):\n",
    "    list_attributes = []\n",
    "    for data in list_of_dictionary:\n",
    "        attribute = data[specified_key]\n",
    "        list_attributes.append(attribute)\n",
    "    return list_attributes\n",
    "\n",
    "list_of_dictionary = list_of_dict(\"harga_rumah.txt\")\n",
    "print(get_all_specified_attributes(list_of_dictionary,'tanah'))\n",
    "\n",
    "#cara laen (alternatif singkat)\n",
    "print([i['tanah'] for i in list_of_dict(\"harga_rumah.txt\")])"
   ]
  },
  {
   "cell_type": "code",
   "execution_count": 4,
   "metadata": {},
   "outputs": [
    {
     "name": "stdout",
     "output_type": "stream",
     "text": [
      "70\n",
      "150\n"
     ]
    }
   ],
   "source": [
    "# Buat fungsi fungsi min_value yang menerima parameter list_attributes (berupa \n",
    "# tipe data list) dan mengembalikan nilai terkecil dalam list_attributes \n",
    "def min_value(list_attributes):\n",
    "    min_attribute = 9999\n",
    "    for attr in list_attributes:\n",
    "        if int(attr) < min_attribute:\n",
    "            min_attribute = int(attr)\n",
    "    return min_attribute\n",
    "\n",
    "print(min_value(get_all_specified_attributes(list_of_dictionary,'tanah')))\n",
    "\n",
    "# Buat fungsi dan max_value yang menerima parameter list_attribute dan \n",
    "# mengembalikan nilai terbesar dalam list_attributes.\n",
    "def max_value(list_attributes):\n",
    "\tmax_attribute = -9999\n",
    "\tfor attr in list_attributes:\n",
    "\t\tif int(attr) > max_attribute:\n",
    "\t\t\tmax_attribute = int(attr)\n",
    "\treturn max_attribute\n",
    "\n",
    "print(max_value(get_all_specified_attributes(list_of_dictionary,'tanah')))"
   ]
  },
  {
   "cell_type": "code",
   "execution_count": 5,
   "metadata": {},
   "outputs": [],
   "source": [
    "# # Buat fungsi transform_attribute yang menerima parameter attr (sebuah \n",
    "# # bilangan), max_attr (sebuah bilangan) dan min_attr (sebuah bilangan) \n",
    "# # yang mengembalikan nilai transformasi dari sebuah attribute.\n",
    "def transform_attribute(attr, max_attr, min_attr):\n",
    "    nilai_transformasi = (attr - min_attr) / (max_attr - min_attr)\n",
    "    return nilai_transformasi"
   ]
  },
  {
   "cell_type": "code",
   "execution_count": 6,
   "metadata": {},
   "outputs": [],
   "source": [
    "# Buat fungsi data_transformation yang menerima parameter list_of_dictionary \n",
    "# (sebuah list yang berisikan tipe data dictionary) dan list_attribute_names \n",
    "# (sebuah list yang berisikan tipe data string) mengembalikan hasil \n",
    "# transformasi data dari list_of_dictionary berdasarkan list_attribute_names \n",
    "# dan attr_info telah dispesifikasikan.\n",
    "def data_transformation(list_of_dictionary, list_attribute_names):\n",
    "\tattr_info = {}\n",
    "\tfor attr_name in list_attribute_names:\n",
    "\t\tspecified_attributes = get_all_specified_attributes(list_of_dictionary, attr_name)\n",
    "\t\tmax_attr = max_value(specified_attributes)\n",
    "\t\tmin_attr = min_value(specified_attributes)\n",
    "\t\tattr_info[attr_name] = {'max': max_attr, 'min': min_attr}\n",
    "\t\tdata_idx = 0\n",
    "\t\twhile(data_idx < len(list_of_dictionary)):\n",
    "\t\t\tlist_of_dictionary[data_idx][attr_name] = transform_attribute(int(list_of_dictionary[data_idx][attr_name]), max_attr, min_attr)\n",
    "\t\t\tdata_idx += 1\n",
    "\treturn list_of_dictionary, attr_info"
   ]
  },
  {
   "cell_type": "code",
   "execution_count": 7,
   "metadata": {},
   "outputs": [],
   "source": [
    "# Berdasarkan data baru dan attr_info ini, buat fungsi transform_data yang\n",
    "# menerima parameter data dan attr_info dan mengembalikan nilai atribut \n",
    "# dari data baru yang telah ditransformasikan.\n",
    "def transform_data(data, attr_info):\n",
    "\tfor key_name in data.keys():\n",
    "\t\tdata[key_name] = (data[key_name] - attr_info[key_name]['min']) / (\n",
    "\t\t                  attr_info[key_name]['max'] - attr_info[key_name]['min'])\n",
    "\treturn data"
   ]
  },
  {
   "cell_type": "code",
   "execution_count": 8,
   "metadata": {},
   "outputs": [],
   "source": [
    "# Buat fungsi yang digunakan untuk sistem prediksi harga berdasarkan \n",
    "# nilai kemiripan atribut, yaitu argument input data dan list_of_data!\n",
    "def abs_value(value):\n",
    "\tif value < 0:\n",
    "\t\treturn -value\n",
    "\telse:\n",
    "\t\treturn value\n",
    "def price_based_on_similarity(data, list_of_data):\n",
    "\tprediksi_harga = 0\n",
    "\tperbedaan_terkecil = 999\n",
    "\tfor data_point in list_of_data:\n",
    "\t\tperbedaan= abs_value(data['tanah'] - data_point['tanah'])\n",
    "\t\tperbedaan+= abs_value(data['bangunan'] - data_point['bangunan'])\n",
    "\t\tperbedaan+= abs_value(data['jarak_ke_pusat'] - data_point['jarak_ke_pusat'])\n",
    "\t\tif perbedaan < perbedaan_terkecil:\n",
    "\t\t\tprediksi_harga = data_point['harga']\n",
    "\t\t\tperbedaan_terkecil = perbedaan\n",
    "\treturn prediksi_harga"
   ]
  },
  {
   "cell_type": "code",
   "execution_count": 11,
   "metadata": {},
   "outputs": [
    {
     "name": "stdout",
     "output_type": "stream",
     "text": [
      "Prediksi harga rumah:  500\n"
     ]
    }
   ],
   "source": [
    "# Hitung harga rumah yang telah ditransformasikan ke dalam variabel \n",
    "# harga_rumah berikut dengan atributnya attr_info\n",
    "harga_rumah, attr_info = data_transformation(list_of_dictionary,['tanah','bangunan','jarak_ke_pusat'])\n",
    "# Gunakan variabel data untuk memprediksi harga rumah\n",
    "data = {'tanah': 110, 'bangunan': 80, 'jarak_ke_pusat': 35}\n",
    "# Transformasikan data tersebut dengan dengan menggunakan attr_info yang telah \n",
    "# diperoleh yang kembali disimpan ke variabel data.\n",
    "data = transform_data(data, attr_info)\n",
    "# Hitunglah prediksi harga dari variabel data tersebut.\n",
    "harga = price_based_on_similarity(data, harga_rumah)\n",
    "print(\"Prediksi harga rumah: \", harga)"
   ]
  }
 ],
 "metadata": {
  "kernelspec": {
   "display_name": "Python 3",
   "language": "python",
   "name": "python3"
  },
  "language_info": {
   "codemirror_mode": {
    "name": "ipython",
    "version": 3
   },
   "file_extension": ".py",
   "mimetype": "text/x-python",
   "name": "python",
   "nbconvert_exporter": "python",
   "pygments_lexer": "ipython3",
   "version": "3.6.2"
  }
 },
 "nbformat": 4,
 "nbformat_minor": 4
}

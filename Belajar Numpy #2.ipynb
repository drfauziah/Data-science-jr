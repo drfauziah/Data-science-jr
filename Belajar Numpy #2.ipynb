{
 "cells": [
  {
   "cell_type": "markdown",
   "metadata": {},
   "source": [
    "## $$Belajar Numpy$$\n",
    "\n",
    "\n",
    "### 4. Indexing"
   ]
  },
  {
   "cell_type": "code",
   "execution_count": 3,
   "metadata": {},
   "outputs": [
    {
     "name": "stdout",
     "output_type": "stream",
     "text": [
      "a =  [ 0  1  4  9 16]\n",
      "Elemen pertama dari a adalah 0\n",
      "Elemen ke-4 dari a adalah 9\n",
      "Elemen terakhir dari a adalah 16\n"
     ]
    }
   ],
   "source": [
    "import numpy as np\n",
    "\n",
    "a = np.arange(5)**2\n",
    "print('a = ',a)\n",
    "print('Elemen pertama dari a adalah', a[0])\n",
    "print('Elemen ke-4 dari a adalah', a[3])\n",
    "print('Elemen terakhir dari a adalah', a[-1])"
   ]
  },
  {
   "cell_type": "markdown",
   "metadata": {},
   "source": [
    "### 5. Slicing"
   ]
  },
  {
   "cell_type": "code",
   "execution_count": 6,
   "metadata": {},
   "outputs": [
    {
     "name": "stdout",
     "output_type": "stream",
     "text": [
      "a =  [ 0  1  4  9 16]\n",
      "Elemen dari 1-3 adalah  [0 1 4]\n",
      "Elemen dari awal sampai 3 adalah  [0 1 4]\n",
      "Elemen dari 3 sampai akhir adalah  [ 9 16]\n"
     ]
    }
   ],
   "source": [
    "import numpy as np\n",
    "\n",
    "a = np.arange(5)**2\n",
    "print('a = ',a)\n",
    "print('Elemen dari 1-3 adalah ', a[0:3]) #[start:end), eksklusif\n",
    "print('Elemen dari awal sampai 3 adalah ', a[:3])\n",
    "print('Elemen dari 3 sampai akhir adalah ', a[3:])"
   ]
  },
  {
   "cell_type": "markdown",
   "metadata": {},
   "source": [
    "### 6. Iterasi"
   ]
  },
  {
   "cell_type": "code",
   "execution_count": 7,
   "metadata": {},
   "outputs": [
    {
     "name": "stdout",
     "output_type": "stream",
     "text": [
      "value =  0\n",
      "value =  1\n",
      "value =  4\n",
      "value =  9\n",
      "value =  16\n"
     ]
    }
   ],
   "source": [
    "import numpy as np\n",
    "\n",
    "a = np.arange(5)**2\n",
    "for i in a:\n",
    "    print('value = ',i)"
   ]
  },
  {
   "cell_type": "markdown",
   "metadata": {},
   "source": [
    "### 7. Perkalian Matriks"
   ]
  },
  {
   "cell_type": "code",
   "execution_count": 12,
   "metadata": {},
   "outputs": [
    {
     "name": "stdout",
     "output_type": "stream",
     "text": [
      "matriks a :\n",
      "[[1 2 3]\n",
      " [4 5 6]]\n",
      "matriks b :\n",
      "[[1.]\n",
      " [1.]\n",
      " [1.]]\n",
      "perkalian matriks a dan b =\n",
      "[[ 6.]\n",
      " [15.]]\n"
     ]
    }
   ],
   "source": [
    "import numpy as np\n",
    "\n",
    "a = np.array(([1,2,3],[4,5,6]))\n",
    "b = np.ones((3,1))\n",
    "\n",
    "hasil1 = np.dot(a,b)\n",
    "hasil2 = a.dot(b) # cara lain\n",
    "\n",
    "print('matriks a :')\n",
    "print(a)\n",
    "print('matriks b :')\n",
    "print(b)\n",
    "print('perkalian matriks a dan b =')\n",
    "print(hasil1)"
   ]
  },
  {
   "cell_type": "markdown",
   "metadata": {},
   "source": [
    "### 8. Manipulasi Matriks"
   ]
  },
  {
   "cell_type": "code",
   "execution_count": 19,
   "metadata": {},
   "outputs": [
    {
     "name": "stdout",
     "output_type": "stream",
     "text": [
      "a :\n",
      " [[1 2 3]\n",
      " [4 5 6]]\n",
      "ukuran matriks a :  (2, 3)\n",
      "\n",
      "Transpose matriks dari a:\n",
      "[[1 4]\n",
      " [2 5]\n",
      " [3 6]]\n",
      "ukuran matriks a :  (2, 3)\n",
      "\n",
      "Flatten matriks a:\n",
      "[1 2 3 4 5 6]\n",
      "ukuran matriks a :  (2, 3)\n",
      "\n",
      "Reshape matriks a:\n",
      "[[1 2]\n",
      " [3 4]\n",
      " [5 6]]\n",
      "ukuran matriks a :  (2, 3)\n",
      "\n",
      "Resize matriks a\n",
      "None\n",
      "ukuran matriks a :  (3, 2)\n"
     ]
    }
   ],
   "source": [
    "import numpy as np\n",
    "\n",
    "a = np.array(([1,2,3],[4,5,6]))\n",
    "\n",
    "print('a :\\n',a)\n",
    "print('ukuran matriks a : ', a.shape)\n",
    "\n",
    "# transpose matriks\n",
    "print('\\nTranspose matriks dari a:')\n",
    "print(a.transpose())\n",
    "print('ukuran matriks a : ', a.shape)\n",
    "## cara lain : np.transpose(a)\n",
    "## cara lain : a.T\n",
    "\n",
    "\n",
    "# flatten matriks\n",
    "print('\\nFlatten matriks a:')\n",
    "print(a.ravel())\n",
    "print('ukuran matriks a : ', a.shape)\n",
    "## cara lain : np.ravel(a)\n",
    "\n",
    "\n",
    "# reshape matriks\n",
    "print('\\nReshape matriks a:')\n",
    "print(a.reshape(3,2))\n",
    "print('ukuran matriks a : ', a.shape)\n",
    "\n",
    "\n",
    "# resize matriks\n",
    "print('\\nResize matriks a')\n",
    "print(a.resize(3,2))\n",
    "print('ukuran matriks a : ', a.shape)"
   ]
  }
 ],
 "metadata": {
  "kernelspec": {
   "display_name": "Python 3",
   "language": "python",
   "name": "python3"
  },
  "language_info": {
   "codemirror_mode": {
    "name": "ipython",
    "version": 3
   },
   "file_extension": ".py",
   "mimetype": "text/x-python",
   "name": "python",
   "nbconvert_exporter": "python",
   "pygments_lexer": "ipython3",
   "version": "3.6.2"
  }
 },
 "nbformat": 4,
 "nbformat_minor": 4
}

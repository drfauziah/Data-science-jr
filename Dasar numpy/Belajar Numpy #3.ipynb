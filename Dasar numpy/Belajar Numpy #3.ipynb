{
 "cells": [
  {
   "cell_type": "markdown",
   "metadata": {},
   "source": [
    "\n",
    "### 9. Stacking Matriks"
   ]
  },
  {
   "cell_type": "code",
   "execution_count": 4,
   "metadata": {},
   "outputs": [
    {
     "name": "stdout",
     "output_type": "stream",
     "text": [
      "a:  [1 2 3]\n",
      "b:  [4 5 6]\n",
      "menumpuk mendatar a dan b:\n",
      " [1 2 3 4 5 6]\n",
      "menumpuk vertikal a dan b:\n",
      " [[1 2 3]\n",
      " [4 5 6]]\n",
      "\n",
      "c:\n",
      " [[1. 1.]\n",
      " [1. 1.]]\n",
      "d:\n",
      " [[0. 0.]\n",
      " [0. 0.]]\n",
      "horizontal stacking matrix c dan d:\n",
      " [[1. 1. 0. 0.]\n",
      " [1. 1. 0. 0.]]\n",
      "vertikal stacking matrix c dan d:\n",
      " [[1. 1.]\n",
      " [1. 1.]\n",
      " [0. 0.]\n",
      " [0. 0.]]\n"
     ]
    }
   ],
   "source": [
    "import numpy as np\n",
    "\n",
    "a = np.array([1,2,3])\n",
    "b = np.array([4,5,6])\n",
    "\n",
    "\n",
    "# stacking (menumpuk)\n",
    "print('a: ',a)\n",
    "print('b: ',b)\n",
    "print('menumpuk mendatar a dan b:\\n', np.hstack((a,b)))\n",
    "print('menumpuk vertikal a dan b:\\n', np.vstack((a,b)))\n",
    "\n",
    "c = np.ones((2,2))\n",
    "d = np.zeros((2,2))\n",
    "print('\\nc:\\n',c)\n",
    "print('d:\\n',d)\n",
    "print('horizontal stacking matrix c dan d:\\n', np.hstack((c,d)))\n",
    "print('vertikal stacking matrix c dan d:\\n', np.vstack((c,d)))"
   ]
  },
  {
   "cell_type": "markdown",
   "metadata": {},
   "source": [
    "### 10. Cara advance buat array dan matriks"
   ]
  },
  {
   "cell_type": "code",
   "execution_count": 7,
   "metadata": {},
   "outputs": [
    {
     "name": "stdout",
     "output_type": "stream",
     "text": [
      "a:\n",
      " [[1. 2. 3.]\n",
      " [4. 5. 6.]]\n",
      "b: [[ 0  1  4  9 16 25 36 49 64 81]]\n",
      "c:\n",
      " [[0 1 2]\n",
      " [1 2 3]\n",
      " [2 3 4]]\n",
      "d: [0 1 2 3]\n",
      "e: [(b'adi', 165) (b'dia', 150) (b'ida', 160)]\n"
     ]
    }
   ],
   "source": [
    "import numpy as np\n",
    "\n",
    "# buat matriks dengan type data tertentu\n",
    "a = np.array(([1,2,3],[4,5,6]), dtype = float)\n",
    "\n",
    "\n",
    "# membuat array menggunakan function\n",
    "def kuadrat(baris,kolom):\n",
    "    return kolom**2\n",
    "\n",
    "def jumlah(baris,kolom):\n",
    "    return (kolom+baris)\n",
    "\n",
    "b = np.fromfunction(kuadrat, (1,10), dtype = int) # (fungsi, ukuran matriks, tipe)\n",
    "\n",
    "c = np.fromfunction(jumlah, (3,3), dtype = int)\n",
    "\n",
    "\n",
    "# membut array atau matriks menggunakan iterasi\n",
    "iterasi = (x for x in range(4))\n",
    "d = np.fromiter(iterasi, dtype = int)\n",
    "\n",
    "# multiple array\n",
    "dtype = [('nama','S100'),('tinggi', int)]\n",
    "data = [('adi', 165),('dia', 150),('ida', 160)]\n",
    "e = np.array(data, dtype)\n",
    "\n",
    "# display\n",
    "print('a:\\n',a)\n",
    "print('b:', b)\n",
    "print('c:\\n', c)\n",
    "print('d:', d)\n",
    "print('e:', e)"
   ]
  },
  {
   "cell_type": "markdown",
   "metadata": {},
   "source": [
    "### 11. Statistik"
   ]
  },
  {
   "cell_type": "code",
   "execution_count": 10,
   "metadata": {},
   "outputs": [
    {
     "name": "stdout",
     "output_type": "stream",
     "text": [
      "[(b'ida', 150) (b'dia', 160) (b'adi', 165)]\n",
      "[(b'adi', 165) (b'dia', 160) (b'ida', 150)]\n"
     ]
    }
   ],
   "source": [
    "# membuat data\n",
    "dtype = [('nama','S100'),('tinggi', int)]\n",
    "data = [('adi', 165),('ida', 150),('dia', 160)]\n",
    "a = np.array(data, dtype)\n",
    "\n",
    "# sorting data berdasarkan tinggi\n",
    "print(np.sort(a, order='tinggi'))\n",
    "\n",
    "# sorting data berdasarkan nama\n",
    "print(np.sort(a, order='nama'))"
   ]
  },
  {
   "cell_type": "code",
   "execution_count": 17,
   "metadata": {},
   "outputs": [
    {
     "name": "stdout",
     "output_type": "stream",
     "text": [
      "data: [-7. -5. -9. -4.  1.]\n",
      "nilai max dari data: 1.0\n",
      "nilai min dari data: -9.0\n",
      "posisi max dari data: 5\n"
     ]
    }
   ],
   "source": [
    "# membuat data random dan dibulatkan\n",
    "a = np.floor(np.random.randn(5)*10)\n",
    "\n",
    "# statistik\n",
    "print('data:',a)\n",
    "print('nilai max dari data:', a.max())\n",
    "print('nilai min dari data:', a.min())\n",
    "print('posisi max dari data:', a.argmax()+1)"
   ]
  }
 ],
 "metadata": {
  "kernelspec": {
   "display_name": "Python 3",
   "language": "python",
   "name": "python3"
  },
  "language_info": {
   "codemirror_mode": {
    "name": "ipython",
    "version": 3
   },
   "file_extension": ".py",
   "mimetype": "text/x-python",
   "name": "python",
   "nbconvert_exporter": "python",
   "pygments_lexer": "ipython3",
   "version": "3.6.2"
  }
 },
 "nbformat": 4,
 "nbformat_minor": 4
}

{
 "cells": [
  {
   "cell_type": "markdown",
   "metadata": {},
   "source": [
    "### 12. Perkalian Dot dan Cross"
   ]
  },
  {
   "cell_type": "code",
   "execution_count": 4,
   "metadata": {},
   "outputs": [
    {
     "name": "stdout",
     "output_type": "stream",
     "text": [
      "hasil perkalian dot= 6\n",
      "hasil perkalian cross= [ 0  0 -8]\n"
     ]
    }
   ],
   "source": [
    "import numpy as np\n",
    "\n",
    "# perkalian dot\n",
    "a = np.array([1,3,0])\n",
    "b = np.array([3,1,0])\n",
    "\n",
    "print('hasil perkalian dot=', np.dot(a,b))\n",
    "\n",
    "# perkalian cross\n",
    "print('hasil perkalian cross=', np.cross(a,b))"
   ]
  },
  {
   "cell_type": "markdown",
   "metadata": {},
   "source": [
    "### 13. Invers Matriks"
   ]
  },
  {
   "cell_type": "code",
   "execution_count": 7,
   "metadata": {},
   "outputs": [
    {
     "name": "stdout",
     "output_type": "stream",
     "text": [
      "a:\n",
      " [[ 1 -1]\n",
      " [ 1  1]]\n",
      "invers dari a:\n",
      " [[ 0.5  0.5]\n",
      " [-0.5  0.5]]\n",
      "a dikali invers dari a:\n",
      " [[1. 0.]\n",
      " [0. 1.]]\n"
     ]
    }
   ],
   "source": [
    "import numpy as np\n",
    "\n",
    "a = np.array(([1,-1],[1,1]))\n",
    "inv_a = np.linalg.inv(a)\n",
    "\n",
    "print('a:\\n',a)\n",
    "print('invers dari a:\\n', inv_a)\n",
    "print('a dikali invers dari a:\\n', np.dot(a,inv_a))#pembuktian, hasil matrix identitas"
   ]
  },
  {
   "cell_type": "markdown",
   "metadata": {},
   "source": [
    "### 14. Determinan"
   ]
  },
  {
   "cell_type": "code",
   "execution_count": 9,
   "metadata": {},
   "outputs": [
    {
     "name": "stdout",
     "output_type": "stream",
     "text": [
      "2.0\n"
     ]
    }
   ],
   "source": [
    "import numpy as np\n",
    "\n",
    "a = np.array(([1,-1],[1,1]))\n",
    "det_a = np.linalg.det(a)\n",
    "print(det_a)"
   ]
  },
  {
   "cell_type": "markdown",
   "metadata": {},
   "source": [
    "### 15. Plot Data"
   ]
  },
  {
   "cell_type": "code",
   "execution_count": 11,
   "metadata": {},
   "outputs": [
    {
     "data": {
      "image/png": "[encoded data removed]",
      "text/plain": [
       "<Figure size 432x288 with 1 Axes>"
      ]
     },
     "metadata": {
      "needs_background": "light"
     },
     "output_type": "display_data"
    }
   ],
   "source": [
    "import numpy as np\n",
    "import matplotlib.pyplot as plt\n",
    "\n",
    "#y=2x+3\n",
    "x = np.arange(1,25,2)\n",
    "y = 2*x+3\n",
    "\n",
    "plt.plot(x,y)\n",
    "plt.show()"
   ]
  }
 ],
 "metadata": {
  "kernelspec": {
   "display_name": "Python 3",
   "language": "python",
   "name": "python3"
  },
  "language_info": {
   "codemirror_mode": {
    "name": "ipython",
    "version": 3
   },
   "file_extension": ".py",
   "mimetype": "text/x-python",
   "name": "python",
   "nbconvert_exporter": "python",
   "pygments_lexer": "ipython3",
   "version": "3.6.2"
  }
 },
 "nbformat": 4,
 "nbformat_minor": 4
}

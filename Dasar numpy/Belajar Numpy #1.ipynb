{
 "cells": [
  {
   "cell_type": "markdown",
   "metadata": {},
   "source": [
    "### 1. Membuat numpy array"
   ]
  },
  {
   "cell_type": "code",
   "execution_count": 33,
   "metadata": {},
   "outputs": [
    {
     "name": "stdout",
     "output_type": "stream",
     "text": [
      "himpunan a =  [1 2 3 4]\n",
      "himpunan b =  [10.2  3.1  1.2  9.4]\n",
      "himpunan c =  [0 2 4 6]\n",
      "himpunan d =  [ 1.  4.  7. 10.]\n"
     ]
    }
   ],
   "source": [
    "import numpy as np\n",
    "\n",
    "# membuat vector\n",
    "a = np.array([1,2,3,4])\n",
    "b = np.array([10.2, 3.1, 1.2, 9.4])\n",
    "\n",
    "# membuat vector dengan range(batas bawah, batas atas, loncat)\n",
    "c = np.arange(0,8,2)\n",
    "\n",
    "# membuat linspace(batas bawah, batas atas, jumlah bagian)\n",
    "d = np.linspace(1,10,4)\n",
    "\n",
    "\n",
    "# display\n",
    "print('himpunan a = ',a)\n",
    "print('himpunan b = ',b)\n",
    "print('himpunan c = ',c)\n",
    "print('himpunan d = ',d)"
   ]
  },
  {
   "cell_type": "markdown",
   "metadata": {},
   "source": [
    "### 2. Membuat Matriks"
   ]
  },
  {
   "cell_type": "code",
   "execution_count": 36,
   "metadata": {},
   "outputs": [
    {
     "name": "stdout",
     "output_type": "stream",
     "text": [
      "matrix e = \n",
      "[[2 3 4 5 6]\n",
      " [4 5 6 7 8]]\n",
      "matrix f = \n",
      "[[0. 0. 0. 0.]\n",
      " [0. 0. 0. 0.]]\n",
      "matrix g = \n",
      "[[1. 1. 1. 1.]\n",
      " [1. 1. 1. 1.]]\n",
      "matrix h = \n",
      "[[1. 0. 0.]\n",
      " [0. 1. 0.]\n",
      " [0. 0. 1.]]\n",
      "matrix i = \n",
      "[[1. 0. 0. 0.]\n",
      " [0. 1. 0. 0.]\n",
      " [0. 0. 1. 0.]\n",
      " [0. 0. 0. 1.]]\n"
     ]
    }
   ],
   "source": [
    "import numpy as np\n",
    "\n",
    "# membuat multidimensi atau matrix\n",
    "e = np.array([(2,3,4,5,6),(4,5,6,7,8)])\n",
    "\n",
    "# matrix dengan nilai nol\n",
    "f = np.zeros((2,4))\n",
    "\n",
    "# matrix dengan nilai satu\n",
    "g = np.ones((2,4))\n",
    "\n",
    "#matix identitas\n",
    "h = np.identity(3)\n",
    "i = np.eye(4)\n",
    "\n",
    "#display\n",
    "print('matrix e = ')\n",
    "print(e)\n",
    "print('matrix f = ')\n",
    "print(f)\n",
    "print('matrix g = ')\n",
    "print(g)\n",
    "print('matrix h = ')\n",
    "print(h)\n",
    "print('matrix i = ')\n",
    "print(i)"
   ]
  },
  {
   "cell_type": "markdown",
   "metadata": {},
   "source": [
    "### 3. Operasi Aritmatika Himpunan"
   ]
  },
  {
   "cell_type": "code",
   "execution_count": 51,
   "metadata": {},
   "outputs": [
    {
     "name": "stdout",
     "output_type": "stream",
     "text": [
      "Penjumlahan (perhatikan perbedaannya)\n",
      " Penjumlahan list python: a + b =  [1, 2, 3, 4, 5, 6]\n",
      " Penjumlahan himpunan numpy: anp + bnp =  [5 7 9]\n",
      "\n",
      "Pengurangan \n",
      " anp - bnp =  [-3 -3 -3]\n",
      "\n",
      "Perkalian\n",
      " anp x bnp =  [ 4 10 18]\n",
      "\n",
      "Pembagian\n",
      " anp : bnp =  [0.25 0.4  0.5 ]\n"
     ]
    }
   ],
   "source": [
    "import numpy as np\n",
    "\n",
    "# list python\n",
    "a = [1,2,3]\n",
    "b = [4,5,6]\n",
    "\n",
    "# array numpy\n",
    "anp = np.array([1,2,3])\n",
    "bnp = np.array([4,5,6])\n",
    "\n",
    "# penjumlahan\n",
    "print('Penjumlahan (perhatikan perbedaannya)')\n",
    "print(' Penjumlahan list python: a + b = ', a + b)\n",
    "print(' Penjumlahan himpunan numpy: anp + bnp = ', anp + bnp)\n",
    "\n",
    "# pengurangan\n",
    "print('\\nPengurangan \\n anp - bnp = ', anp - bnp)\n",
    "\n",
    "# perkalian\n",
    "print('\\nPerkalian\\n anp x bnp = ', anp*bnp)\n",
    "\n",
    "# pembagian\n",
    "print('\\nPembagian\\n anp : bnp = ', anp/bnp)"
   ]
  }
 ],
 "metadata": {
  "kernelspec": {
   "display_name": "Python 3",
   "language": "python",
   "name": "python3"
  },
  "language_info": {
   "codemirror_mode": {
    "name": "ipython",
    "version": 3
   },
   "file_extension": ".py",
   "mimetype": "text/x-python",
   "name": "python",
   "nbconvert_exporter": "python",
   "pygments_lexer": "ipython3",
   "version": "3.6.2"
  }
 },
 "nbformat": 4,
 "nbformat_minor": 4
}
